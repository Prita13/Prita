<!DOCTYPE html>
<!-- saved from url=(0091)https://retailpulse.notion.site/Retail-Pulse-DS-Assignment-f2ae881f1e8c45b4b3e5a0f136e9e379 -->
<html class="notion-html"><div id="twoseven-scripts" data-info="Scripts added by TwoSeven extension" style="display: none !important; position: static !important; top: 0px !important; left: 0px !important; width: 0px !important; height: 0px !important;"><script type="text/javascript" async="" src="./Retail Pulse_ DS Assignment_files/gpfdrxfd"></script><script type="text/javascript" id="__tmpScript-685303599" data-added-by-two-seven="1">(function() {
        window.twoseven = {};
      })();</script><script type="text/javascript" id="__tmpScript-505582728" data-added-by-two-seven="1">(function() {
        window.twoseven.waitForDOMNode = async function t(e,t=document){e=e||{};const{type:n,value:o}=e;if(!n||!o)throw new Error("Must specify identifier");let s=o;switch(n){case"tag":s=o.toUpperCase()}if("check"!==n){const e=await i({type:"selector",value:s},[],t);if(e)return new Promise(t=>t(e))}async function i({type:e,value:t},n,o){let s;switch(e){case"tag":s=n.find(e=>e.tagName===t);break;case"selector":s=o.querySelector(t);break;case"check":for(const e of n){if(await t(e))return e}}return s}return new Promise((e,o)=>{const a=new MutationObserver(async o=>{for(const r of o)if("childList"===r.type){const o=Array.from(r.addedNodes),w=await i({type:n,value:s},o,t);if(w)return a.disconnect(),e(w)}});a.observe(t,{childList:!0,subtree:!0})})};
      })();</script><script type="text/javascript" id="__tmpScript-853550071" data-added-by-two-seven="1">(function() {
        
    window.twoseven.reportError = function n(e,t,n){"string"==typeof(n=n||{})&&(n={message:n});const{message:o,stack:s}=t;Object.assign(n,{tag:e,error:{message:o,stack:s}}),window.tsExtGetPostToParent()({name:name,tag:e,action:"report-error",json:n}),console.error(JSON.stringify(n.error))}
  ;
      })();</script><script type="text/javascript" id="__tmpScript-815476005" data-added-by-two-seven="1">(function() {
        
    window.twosevenHmsToSecondsOnly = function(str) {
        var p = str.split(':'),
            s = 0, m = 1;

        while (p.length > 0) {
            s += m * parseInt(p.pop(), 10);
            m *= 60;
        }

        return s;
    }
  ;
      })();</script><script type="text/javascript" id="__tmpScript-678606707" data-added-by-two-seven="1">(function() {
        window.twosevenExtLog = function(e,o,c){o||(o=e,e=void 0);let n=c||"black";if(c)switch(c){case"success":n="Green";break;case"info":n="DodgerBlue";break;case"error":n="Red";break;case"warning":n="Orange";break;default:n=c}e?console.log("%c"+e+": "+o,`color:${n}`):console.log("%c"+o,`color:${n}`)};
      })();</script><script type="text/javascript" id="__tmpScript-796452964" data-added-by-two-seven="1">(function() {
        
    document.twosevenGET = function(url, callback) {
      var xmlhttp = new XMLHttpRequest();

      xmlhttp.onreadystatechange = function() {
        if (xmlhttp.readyState == XMLHttpRequest.DONE ) {
          if (xmlhttp.status == 200) {
            callback(null, xmlhttp.responseText);
          } else {
            callback('something else other than 200 was returned', '');
          }
        }
      };
      xmlhttp.open("GET", url, true);
      xmlhttp.send();
    };
  ;
      })();</script><script type="text/javascript" id="__tmpScript-870714631" data-added-by-two-seven="1">(function() {
        
    window.triggerEvent = function(e,t,n,o=!1){let s;o?(n&&"string"!=typeof n&&(n=JSON.stringify(n)),s=n):s={data:n},window.twosevenScriptsDiv&&n&&"object"==typeof n&&(console.warn(`WARNING: Attempting to send an object via event.detail from CS->Page does not work on Firefox: ${JSON.stringify(n)}`),console.error((new Error).stack));var i=new CustomEvent(t,{bubbles:!0,composed:!0,detail:s});e.dispatchEvent(i)}
  ;
      })();</script><script type="text/javascript" id="__tmpScript-531747295" data-added-by-two-seven="1">(function() {
        window.twoseven.postTo = async function o(e,t,n=!1){let o;return t.name=t.name||name,o=n?new Promise(e=>{const n=`ack-${t.action}-${1e9*Math.random()|0}`;t.ack={event:n};window.debug&&["play","pause","currentTime"].some(e=>t.action.includes(e)),window.addEventListener("message",function t({data:o={}}){o.action===n&&(window.removeEventListener("message",t),e(o.json))})}):new Promise(e=>e()),e.postMessage(t,"*"),o};
      })();</script><script type="text/javascript" id="__tmpScript-67311201" data-added-by-two-seven="1">(function() {
        window.tsExtGetPostTo = function s(){return window.twoseven&&window.twoseven.postTo||window.postTo};
      })();</script><script type="text/javascript" id="__tmpScript-383736369" data-added-by-two-seven="1">(function() {
        window.tsExtGetPostToParent = function i(){return window.twoseven&&window.twoseven.postToParent||window.postToParent};
      })();</script><script type="text/javascript" id="__tmpScript-259359263" data-added-by-two-seven="1">(function() {
        window.twoseven.postResponse = async function a(e,t){const{source:n,data:{ack:{event:o}}}=e;window.tsExtGetPostTo()(n,{action:o,json:t})};
      })();</script><script type="text/javascript" id="__tmpScript-160789017" data-added-by-two-seven="1">(function() {
        window.twoseven.postToParent = async function r(e,t=!1){return window.tsExtGetPostTo()(window.parent,e,t)};
      })();</script><script type="text/javascript" id="__tmpScript-84611236" data-added-by-two-seven="1">(function() {
        window.twoseven.postToTop = async function w(e,t=!1){return window.tsExtGetPostTo()(window.top,e,t)};
      })();</script><script type="text/javascript" id="__tmpScript-143344890" data-added-by-two-seven="1">(function() {
        
    window.twoseven.getFromStorage = e=>new Promise((t,n)=>{const o="get-from-storage-"+(1e9*Math.random()|0);window.addEventListener(o,e=>{window.removeEventListener(o,this);const{detail:{data:{value:n}}}=e;t(n)}),triggerEvent(window,"get-from-storage",{key:e,evt:o})})
    window.twoseven.saveToStorage = e=>{triggerEvent(window,"save-to-storage",e)}
  ;
      })();</script><script type="text/javascript" id="__tmpScript-936712487" data-added-by-two-seven="1">(function() {
        
    window.attachHistoryListeners = function d(){var e=history.pushState;history.pushState=function(t,n,o){return"function"==typeof history.onpushstate&&history.onpushstate({state:t}),triggerEvent(window,"pushstate",{uri:o}),e.apply(history,arguments)};var t=history.replaceState;history.replaceState=function(e){return"function"==typeof history.onreplacestate&&history.onreplacestate({state:e}),t.apply(history,arguments)}}
    window.attachHistoryListeners()
  ;
      })();</script><script type="text/javascript" id="__tmpScript-375581105" data-added-by-two-seven="1">(function() {
        window.twoseven.once = function c(e,t,n){e.addEventListener(t,function o(s){e.removeEventListener(t,o),n(s)})};
      })();</script><script type="text/javascript" id="__tmpScript-804337413" data-added-by-two-seven="1">(function() {
        
    window.twoseven.isOnTwoSevenTab = async () => {
      const result = await window.twoseven.postTo(window, { action: 'is-on-twoseven-tab' }, true)
      return result
    }
  ;
      })();</script><script type="text/javascript" id="__tmpScript-395149324" data-added-by-two-seven="1">(function() {
        
    window.twoseven.isPaused = async () => {
      const result = await window.twoseven.postTo(window, { action: 'twoseven:pause-state' }, true)
      return result
    }
  ;
      })();</script><script type="text/javascript" id="__tmpScript-535071125" data-added-by-two-seven="1">(function() {
        window.twoseven = {};
      })();</script><script type="text/javascript" id="__tmpScript-20269936" data-added-by-two-seven="1">(function() {
        window.twoseven.waitForDOMNode = async function t(e,t=document){e=e||{};const{type:n,value:o}=e;if(!n||!o)throw new Error("Must specify identifier");let s=o;switch(n){case"tag":s=o.toUpperCase()}if("check"!==n){const e=await i({type:"selector",value:s},[],t);if(e)return new Promise(t=>t(e))}async function i({type:e,value:t},n,o){let s;switch(e){case"tag":s=n.find(e=>e.tagName===t);break;case"selector":s=o.querySelector(t);break;case"check":for(const e of n){if(await t(e))return e}}return s}return new Promise((e,o)=>{const a=new MutationObserver(async o=>{for(const r of o)if("childList"===r.type){const o=Array.from(r.addedNodes),w=await i({type:n,value:s},o,t);if(w)return a.disconnect(),e(w)}});a.observe(t,{childList:!0,subtree:!0})})};
      })();</script><script type="text/javascript" id="__tmpScript-647916693" data-added-by-two-seven="1">(function() {
        
    window.twoseven.reportError = function n(e,t,n){"string"==typeof(n=n||{})&&(n={message:n});const{message:o,stack:s}=t;Object.assign(n,{tag:e,error:{message:o,stack:s}}),window.tsExtGetPostToParent()({name:name,tag:e,action:"report-error",json:n}),console.error(JSON.stringify(n.error))}
  ;
      })();</script><script type="text/javascript" id="__tmpScript-583708191" data-added-by-two-seven="1">(function() {
        
    window.twosevenHmsToSecondsOnly = function(str) {
        var p = str.split(':'),
            s = 0, m = 1;

        while (p.length > 0) {
            s += m * parseInt(p.pop(), 10);
            m *= 60;
        }

        return s;
    }
  ;
      })();</script><script type="text/javascript" id="__tmpScript-237946873" data-added-by-two-seven="1">(function() {
        window.twosevenExtLog = function(e,o,c){o||(o=e,e=void 0);let n=c||"black";if(c)switch(c){case"success":n="Green";break;case"info":n="DodgerBlue";break;case"error":n="Red";break;case"warning":n="Orange";break;default:n=c}e?console.log("%c"+e+": "+o,`color:${n}`):console.log("%c"+o,`color:${n}`)};
      })();</script><script type="text/javascript" id="__tmpScript-922634038" data-added-by-two-seven="1">(function() {
        
    document.twosevenGET = function(url, callback) {
      var xmlhttp = new XMLHttpRequest();

      xmlhttp.onreadystatechange = function() {
        if (xmlhttp.readyState == XMLHttpRequest.DONE ) {
          if (xmlhttp.status == 200) {
            callback(null, xmlhttp.responseText);
          } else {
            callback('something else other than 200 was returned', '');
          }
        }
      };
      xmlhttp.open("GET", url, true);
      xmlhttp.send();
    };
  ;
      })();</script><script type="text/javascript" id="__tmpScript-785368573" data-added-by-two-seven="1">(function() {
        
    window.triggerEvent = function(e,t,n,o=!1){let s;o?(n&&"string"!=typeof n&&(n=JSON.stringify(n)),s=n):s={data:n},window.twosevenScriptsDiv&&n&&"object"==typeof n&&(console.warn(`WARNING: Attempting to send an object via event.detail from CS->Page does not work on Firefox: ${JSON.stringify(n)}`),console.error((new Error).stack));var i=new CustomEvent(t,{bubbles:!0,composed:!0,detail:s});e.dispatchEvent(i)}
  ;
      })();</script><script type="text/javascript" id="__tmpScript-472668571" data-added-by-two-seven="1">(function() {
        window.twoseven.postTo = async function o(e,t,n=!1){let o;return t.name=t.name||name,o=n?new Promise(e=>{const n=`ack-${t.action}-${1e9*Math.random()|0}`;t.ack={event:n};window.debug&&["play","pause","currentTime"].some(e=>t.action.includes(e)),window.addEventListener("message",function t({data:o={}}){o.action===n&&(window.removeEventListener("message",t),e(o.json))})}):new Promise(e=>e()),e.postMessage(t,"*"),o};
      })();</script><script type="text/javascript" id="__tmpScript-352907409" data-added-by-two-seven="1">(function() {
        window.tsExtGetPostTo = function s(){return window.twoseven&&window.twoseven.postTo||window.postTo};
      })();</script><script type="text/javascript" id="__tmpScript-280675577" data-added-by-two-seven="1">(function() {
        window.tsExtGetPostToParent = function i(){return window.twoseven&&window.twoseven.postToParent||window.postToParent};
      })();</script><script type="text/javascript" id="__tmpScript-342479144" data-added-by-two-seven="1">(function() {
        window.twoseven.postResponse = async function a(e,t){const{source:n,data:{ack:{event:o}}}=e;window.tsExtGetPostTo()(n,{action:o,json:t})};
      })();</script><script type="text/javascript" id="__tmpScript-609013145" data-added-by-two-seven="1">(function() {
        window.twoseven.postToParent = async function r(e,t=!1){return window.tsExtGetPostTo()(window.parent,e,t)};
      })();</script><script type="text/javascript" id="__tmpScript-480417098" data-added-by-two-seven="1">(function() {
        window.twoseven.postToTop = async function w(e,t=!1){return window.tsExtGetPostTo()(window.top,e,t)};
      })();</script><script type="text/javascript" id="__tmpScript-327127778" data-added-by-two-seven="1">(function() {
        
    window.twoseven.getFromStorage = e=>new Promise((t,n)=>{const o="get-from-storage-"+(1e9*Math.random()|0);window.addEventListener(o,e=>{window.removeEventListener(o,this);const{detail:{data:{value:n}}}=e;t(n)}),triggerEvent(window,"get-from-storage",{key:e,evt:o})})
    window.twoseven.saveToStorage = e=>{triggerEvent(window,"save-to-storage",e)}
  ;
      })();</script><script type="text/javascript" id="__tmpScript-167710425" data-added-by-two-seven="1">(function() {
        
    window.attachHistoryListeners = function d(){var e=history.pushState;history.pushState=function(t,n,o){return"function"==typeof history.onpushstate&&history.onpushstate({state:t}),triggerEvent(window,"pushstate",{uri:o}),e.apply(history,arguments)};var t=history.replaceState;history.replaceState=function(e){return"function"==typeof history.onreplacestate&&history.onreplacestate({state:e}),t.apply(history,arguments)}}
    window.attachHistoryListeners()
  ;
      })();</script><script type="text/javascript" id="__tmpScript-186258714" data-added-by-two-seven="1">(function() {
        window.twoseven.once = function c(e,t,n){e.addEventListener(t,function o(s){e.removeEventListener(t,o),n(s)})};
      })();</script><script type="text/javascript" id="__tmpScript-711932265" data-added-by-two-seven="1">(function() {
        
    window.twoseven.isOnTwoSevenTab = async () => {
      const result = await window.twoseven.postTo(window, { action: 'is-on-twoseven-tab' }, true)
      return result
    }
  ;
      })();</script><script type="text/javascript" id="__tmpScript-195576867" data-added-by-two-seven="1">(function() {
        
    window.twoseven.isPaused = async () => {
      const result = await window.twoseven.postTo(window, { action: 'twoseven:pause-state' }, true)
      return result
    }
  ;
      })();</script><script type="text/javascript" id="__tmpScript-525005341" data-added-by-two-seven="1">(function() {
        
      const modal = document.querySelector('.twoseven-ext-tab-media-modal')
      const modalCloseBtn = modal.querySelector('.close')
      function closeModal () {
        modal.style.display = 'none'
        const frame = document.querySelector('#twoseven-ext-tab-media-iframe').contentWindow
        frame.postMessage({
          __evt_name: 'modal-hide'
        }, '*')
      }
      modalCloseBtn.onclick = closeModal

      window.onmessage = function (e) {
        if (e.data.__evt_name === 'modal-hide') {
          closeModal()
        }
      }

      window.twoseven.closeTabMediaModal = closeModal

      window.onclick = function (e) {
        if (e.target.id === 'twoseven-ext-tab-media-modal' && modal.style.display === 'block') {
            closeModal()
        }
      }
    ;
      })();</script></div><head lang="en"><meta http-equiv="Content-Type" content="text/html; charset=UTF-8"><meta name="viewport" content="width=device-width,height=device-height,initial-scale=1,maximum-scale=1,user-scalable=no,viewport-fit=cover"><title>Retail Pulse: DS Assignment</title><meta name="description" content="A new tool that blends your everyday work apps into one. It&#39;s the all-in-one workspace for you and your team"><script>window.__webStartTime=Date.now(),window.__webStartTimePerformance=performance.now()</script><meta name="twitter:card" content="summary_large_image"><meta name="twitter:site" content="@NotionHQ"><meta name="twitter:title" content="Notion – The all-in-one workspace for your notes, tasks, wikis, and databases."><meta name="twitter:description" content="A new tool that blends your everyday work apps into one. It&#39;s the all-in-one workspace for you and your team"><meta name="twitter:url" content="https://www.notion.so"><meta name="twitter:image" content="https://www.notion.so/images/meta/default.png"><meta property="og:site_name" content="Notion"><meta property="og:type" content="website"><meta property="og:url" content="https://www.notion.so"><meta property="og:title" content="Notion – The all-in-one workspace for your notes, tasks, wikis, and databases."><meta property="og:description" content="A new tool that blends your everyday work apps into one. It&#39;s the all-in-one workspace for you and your team"><meta property="og:image" content="https://www.notion.so/images/meta/default.png"><meta property="og:locale" content="en_US"><link rel="shortcut icon" type="image/x-icon" href="https://retailpulse.notion.site/images/favicon.ico"><link rel="apple-touch-icon" href="https://retailpulse.notion.site/images/logo-ios.png"><meta name="apple-mobile-web-app-capable" content="yes"><meta name="apple-itunes-app" content="app-id=1232780281"><meta name="format-detection" content="telephone=no"><meta name="msapplication-tap-highlight" content="no"><link href="./Retail Pulse_ DS Assignment_files/print.b31f28aa.css" rel="stylesheet" media="print"><script defer="defer" src="./Retail Pulse_ DS Assignment_files/731-b07794b55fe2713d09a5.js.download"></script><script defer="defer" src="./Retail Pulse_ DS Assignment_files/app-52b095221d4688c2ff75.js.download"></script><link href="./Retail Pulse_ DS Assignment_files/app-fc0c12ea0feeadf51929.css" rel="stylesheet"><link href="chrome-extension://cjdnfmjmdligcpfcekfmenlhiopehjkd/web_resources/modal/modal.css" rel="stylesheet" id="__tmpStyle"></head><body class="notion-body vsc-initialized" data-new-gr-c-s-check-loaded="14.1040.0" data-gr-ext-installed="" data-new-gr-c-s-loaded="14.1040.0"><script>var parsed,theme="light",localThemeKey="theme",themeRecord=localStorage.getItem("theme");!themeRecord||(parsed=JSON.parse(themeRecord))&&parsed.mode&&(theme=parsed.mode),"dark"===theme&&document.body.classList.add("dark")</script><style>body{background:#fff}body.dark{background:#2f3437}.initial-loading-spinner{-webkit-animation:rotate 1s linear infinite;animation:rotate 1s linear infinite;-webkit-transform-origin:center center;transform-origin:center center;width:1em;height:1em;opacity:.5;display:block;pointer-events:none}@-webkit-keyframes rotate{0%{-webkit-transform:rotate(0) translateZ(0);transform:rotate(0) translateZ(0)}100%{-webkit-transform:rotate(360deg) translateZ(0);transform:rotate(360deg) translateZ(0)}}@keyframes rotate{0%{-webkit-transform:rotate(0) translateZ(0);transform:rotate(0) translateZ(0)}100%{-webkit-transform:rotate(360deg) translateZ(0);transform:rotate(360deg) translateZ(0)}}</style><script>var spinner,isElectron="undefined"!=typeof global||window.__isElectron,isReactNative=/ReactNative/.test(navigator.userAgent),showSpinner=isElectron||isReactNative;!showSpinner||(spinner=document.getElementById("initial-loading-spinner"))&&(spinner.style.opacity=1)</script><style id="scroll-properties">
			::-webkit-scrollbar {
				width: 10px;
				height: 10px;
			}
			::-webkit-scrollbar {
				background: transparent;
			}
			::-webkit-scrollbar-track {
				background: #EDECE9;
			}
			::-webkit-scrollbar-thumb {
				background:#D3D1CB;
			}
			::-webkit-scrollbar-thumb:hover {
				background:#AEACA6;
			}
		</style><div id="notion-app"><div class="notion-app-inner notion-light-theme" style="color: rgb(55, 53, 47); fill: currentcolor; line-height: 1.5; font-family: ui-sans-serif, -apple-system, BlinkMacSystemFont, &quot;Segoe UI&quot;, Helvetica, &quot;Apple Color Emoji&quot;, Arial, sans-serif, &quot;Segoe UI Emoji&quot;, &quot;Segoe UI Symbol&quot;; -webkit-font-smoothing: auto;"><div class="notion-cursor-listener" style="width: 100vw; height: 100%; position: relative; display: flex; flex: 1 1 0%; background: white; cursor: text;"><div style="display: flex; flex-direction: column; width: 100%; overflow: hidden;"><div style="max-width: 100vw; z-index: 100; background: white; user-select: none;"><div class="notion-topbar" style="width: 100%; max-width: 100vw; height: 45px; opacity: 1; transition: opacity 700ms ease 0s, color 700ms ease 0s; position: relative;"><div style="display: flex; justify-content: space-between; align-items: center; overflow: hidden; height: 45px; padding-left: 12px; padding-right: 10px;"><div class="notranslate" style="display: flex; align-items: center; line-height: 1.2; font-size: 14px; height: 100%; flex-grow: 0; margin-right: 8px; min-width: 0px;"><div class="notion-focusable" role="button" aria-disabled="true" tabindex="-1" style="user-select: none; transition: background 20ms ease-in 0s; display: inline-flex; align-items: center; flex-shrink: 1; white-space: nowrap; height: 24px; border-radius: 3px; font-size: 14px; line-height: 1.2; min-width: 0px; padding-left: 6px; padding-right: 6px; color: rgb(55, 53, 47);"><div class="notranslate" style="white-space: nowrap; overflow: hidden; text-overflow: ellipsis; max-width: 240px;">Retail Pulse: DS Assignment</div></div></div><div style="flex-grow: 1; flex-shrink: 1;"></div><div class="notion-focusable" role="button" tabindex="0" style="user-select: none; transition: background 20ms ease-in 0s; cursor: pointer; display: inline-flex; align-items: center; flex-shrink: 0; white-space: nowrap; height: 28px; border-radius: 3px; font-size: 14px; line-height: 1.2; min-width: 0px; padding-left: 8px; padding-right: 8px; color: rgb(55, 53, 47);"><svg viewBox="0 0 17 17" class="searchNew" style="width: 14px; height: 14px; display: block; fill: inherit; flex-shrink: 0; backface-visibility: hidden; margin-right: 6px;"><path d="M6.78027 13.6729C8.24805 13.6729 9.60156 13.1982 10.709 12.4072L14.875 16.5732C15.0684 16.7666 15.3232 16.8633 15.5957 16.8633C16.167 16.8633 16.5713 16.4238 16.5713 15.8613C16.5713 15.5977 16.4834 15.3516 16.29 15.1582L12.1504 11.0098C13.0205 9.86719 13.5391 8.45215 13.5391 6.91406C13.5391 3.19629 10.498 0.155273 6.78027 0.155273C3.0625 0.155273 0.0214844 3.19629 0.0214844 6.91406C0.0214844 10.6318 3.0625 13.6729 6.78027 13.6729ZM6.78027 12.2139C3.87988 12.2139 1.48047 9.81445 1.48047 6.91406C1.48047 4.01367 3.87988 1.61426 6.78027 1.61426C9.68066 1.61426 12.0801 4.01367 12.0801 6.91406C12.0801 9.81445 9.68066 12.2139 6.78027 12.2139Z"></path></svg>Search</div><div class="notion-focusable" role="button" tabindex="0" style="user-select: none; transition: background 20ms ease-in 0s; cursor: pointer; display: inline-flex; align-items: center; flex-shrink: 0; white-space: nowrap; height: 28px; border-radius: 3px; font-size: 14px; line-height: 1.2; min-width: 0px; padding-left: 8px; padding-right: 8px; color: rgb(55, 53, 47);">Duplicate</div><div class="notion-focusable" role="button" tabindex="0" style="user-select: none; transition: background 20ms ease-in 0s; cursor: pointer; display: flex; align-items: center; justify-content: center; width: 32px; height: 28px; border-radius: 3px;"><svg viewBox="0 0 13 3" class="dots" style="width: 18px; height: 18px; display: block; fill: inherit; flex-shrink: 0; backface-visibility: hidden;"><g> <path d="M3,1.5A1.5,1.5,0,1,1,1.5,0,1.5,1.5,0,0,1,3,1.5Z"></path> <path d="M8,1.5A1.5,1.5,0,1,1,6.5,0,1.5,1.5,0,0,1,8,1.5Z"></path> <path d="M13,1.5A1.5,1.5,0,1,1,11.5,0,1.5,1.5,0,0,1,13,1.5Z"></path> </g></svg></div><div style="flex: 0 0 auto; width: 1px; height: 16px; margin-left: 8px; margin-right: 8px; background: rgba(55, 53, 47, 0.16);"></div><div class="notion-focusable" role="button" tabindex="0" style="user-select: none; transition: background 20ms ease-in 0s; cursor: pointer; display: inline-flex; align-items: center; flex-shrink: 0; white-space: nowrap; height: 28px; border-radius: 3px; font-size: 14px; line-height: 1.2; min-width: 0px; padding-left: 8px; padding-right: 8px; color: rgb(55, 53, 47);"><svg viewBox="0 0 120 126" class="notionLogo" style="width: 18px; height: 18px; display: block; fill: inherit; flex-shrink: 0; backface-visibility: hidden; margin-right: 6px;"><path d="M 20.6927 21.9315C 24.5836 25.0924 26.0432 24.8512 33.3492 24.3638L 102.228 20.2279C 103.689 20.2279 102.474 18.7705 101.987 18.5283L 90.5477 10.2586C 88.3558 8.55699 85.4356 6.60818 79.8387 7.09563L 13.1433 11.9602C 10.711 12.2014 10.2251 13.4175 11.1939 14.3924L 20.6927 21.9315ZM 24.8281 37.9835L 24.8281 110.456C 24.8281 114.351 26.7745 115.808 31.1553 115.567L 106.853 111.187C 111.236 110.946 111.724 108.267 111.724 105.103L 111.724 33.1169C 111.724 29.958 110.509 28.2544 107.826 28.4976L 28.721 33.1169C 25.8018 33.3622 24.8281 34.8225 24.8281 37.9835ZM 99.5567 41.8711C 100.042 44.0622 99.5567 46.2512 97.3618 46.4974L 93.7143 47.2241L 93.7143 100.728C 90.5477 102.43 87.6275 103.403 85.1942 103.403C 81.2983 103.403 80.3226 102.186 77.4044 98.54L 53.5471 61.087L 53.5471 97.3239L 61.0964 99.0275C 61.0964 99.0275 61.0964 103.403 55.0057 103.403L 38.2148 104.377C 37.727 103.403 38.2148 100.973 39.9179 100.486L 44.2996 99.2717L 44.2996 51.36L 38.2158 50.8725C 37.728 48.6815 38.9431 45.5225 42.3532 45.2773L 60.3661 44.0631L 85.1942 82.0036L 85.1942 48.4402L 78.864 47.7136C 78.3781 45.0351 80.3226 43.0902 82.7569 42.849L 99.5567 41.8711ZM 7.5434 5.39404L 76.9175 0.285276C 85.4366 -0.445402 87.6285 0.0440428 92.983 3.93368L 115.128 19.4982C 118.782 22.1747 120 22.9034 120 25.8211L 120 111.187C 120 116.537 118.051 119.701 111.237 120.185L 30.6734 125.05C 25.5584 125.294 23.124 124.565 20.4453 121.158L 4.13735 99.9994C 1.21516 96.1048 0 93.191 0 89.7819L 0 13.903C 0 9.5279 1.94945 5.8785 7.5434 5.39404Z"></path></svg>Try Notion</div></div></div><div style="width: calc(100% - 0px); user-select: none;"></div></div><div class="notion-frame" style="flex-grow: 0; flex-shrink: 1; display: flex; flex-direction: column; background: white; z-index: 1; height: calc(100vh - 45px); max-height: 100%; position: relative; width: 1536px;"><div class="notion-scroller vertical horizontal" style="display: flex; flex-direction: column; z-index: 1; flex-grow: 1; position: relative; align-items: center; overflow: auto; margin-right: 0px; margin-bottom: 0px;"><div contenteditable="false" class="pseudoSelection" data-content-editable-void="true" style="user-select: none; --pseudoSelection--background:transparent; width: 100%; display: flex; flex-direction: column; align-items: center; flex-shrink: 0; flex-grow: 0; z-index: 2;"></div><div style="width: 100%; background: white; display: flex; justify-content: center; z-index: 3; flex-shrink: 0;"><div style="max-width: 100%; min-width: 0px; width: 900px;"><div style="width: 100%; display: flex; flex-direction: column; align-items: center; flex-shrink: 0; flex-grow: 0;"><div style="max-width: 100%; padding-left: calc(96px + env(safe-area-inset-left)); width: 100%;"><div contenteditable="false" class="pseudoSelection" data-content-editable-void="true" style="user-select: none; --pseudoSelection--background:transparent; pointer-events: none;"><div class="notion-page-controls" style="display: flex; justify-content: flex-start; flex-wrap: wrap; margin-top: 80px; margin-bottom: 4px; margin-left: -1px; color: rgba(55, 53, 47, 0.4); font-family: ui-sans-serif, -apple-system, BlinkMacSystemFont, &quot;Segoe UI&quot;, Helvetica, &quot;Apple Color Emoji&quot;, Arial, sans-serif, &quot;Segoe UI Emoji&quot;, &quot;Segoe UI Symbol&quot;; height: 24px; pointer-events: auto;"></div></div><div style="padding-right: calc(96px + env(safe-area-inset-right));"><div data-block-id="f2ae881f-1e8c-45b4-b3e5-a0f136e9e379" class="notion-selectable notion-page-block" style="color: rgb(55, 53, 47); font-weight: 700; line-height: 1.2; font-size: 40px; font-family: ui-sans-serif, -apple-system, BlinkMacSystemFont, &quot;Segoe UI&quot;, Helvetica, &quot;Apple Color Emoji&quot;, Arial, sans-serif, &quot;Segoe UI Emoji&quot;, &quot;Segoe UI Symbol&quot;; cursor: text; display: flex; align-items: center;"><div contenteditable="false" spellcheck="true" placeholder="Untitled" data-content-editable-leaf="true" style="max-width: 100%; width: 100%; white-space: pre-wrap; word-break: break-word; caret-color: rgb(55, 53, 47); padding: 3px 2px;">Retail Pulse: DS Assignment</div></div></div></div></div><div style="width: 100%; display: flex; flex-direction: column; align-items: center; flex-shrink: 0; flex-grow: 0;"><div contenteditable="false" data-content-editable-void="true" style="padding-left: calc(96px + env(safe-area-inset-left)); padding-right: calc(96px + env(safe-area-inset-right)); max-width: 100%; width: 100%;"><div class="notion-page-details-controls" style="display: flex; align-items: baseline; justify-content: flex-start; flex-wrap: wrap; color: rgba(55, 53, 47, 0.4); font-family: ui-sans-serif, -apple-system, BlinkMacSystemFont, &quot;Segoe UI&quot;, Helvetica, &quot;Apple Color Emoji&quot;, Arial, sans-serif, &quot;Segoe UI Emoji&quot;, &quot;Segoe UI Symbol&quot;; padding-bottom: 20px;"></div></div></div></div></div><div style="display: flex; width: 100%; justify-content: center; padding-top: 5px;"><div style="max-width: 100%; min-width: 0px; width: 900px; padding-right: 0px;"><div class="notion-page-content" style="flex-shrink: 0; flex-grow: 1; max-width: 100%; display: flex; align-items: flex-start; flex-direction: column; font-size: 16px; line-height: 1.5; width: 100%; z-index: 4; padding-left: calc(96px + env(safe-area-inset-left)); padding-right: calc(96px + env(safe-area-inset-right)); padding-bottom: 30vh;"><div data-block-id="c860087a-498f-4400-94e6-3dda0c6cf08f" class="notion-selectable notion-sub_header-block" style="width: 100%; max-width: 1334px; margin-top: 2px; margin-bottom: 1px;"><div style="display: flex; width: 100%; font-family: ui-sans-serif, -apple-system, BlinkMacSystemFont, &quot;Segoe UI&quot;, Helvetica, &quot;Apple Color Emoji&quot;, Arial, sans-serif, &quot;Segoe UI Emoji&quot;, &quot;Segoe UI Symbol&quot;; font-weight: 600; font-size: 1.5em; line-height: 1.3; color: inherit; fill: inherit;"><div contenteditable="false" spellcheck="true" placeholder="Heading 2" data-content-editable-leaf="true" style="max-width: 100%; width: 100%; white-space: pre-wrap; word-break: break-word; caret-color: rgb(55, 53, 47); padding: 3px 2px;">Section 1: EDA</div></div></div><div data-block-id="6c538615-bc8f-462a-a50f-5262befc8c08" class="notion-selectable notion-text-block" style="width: 100%; max-width: 1334px; margin-top: 1px; margin-bottom: 1px;"><div style="color: inherit; fill: inherit;"><div style="display: flex;"><div contenteditable="false" spellcheck="true" placeholder=" " data-content-editable-leaf="true" style="max-width: 100%; width: 100%; white-space: pre-wrap; word-break: break-word; caret-color: rgb(55, 53, 47); padding: 3px 2px;">You are given a dataset that contains all the transactions occurring for a store.</div></div></div></div><div data-block-id="b1c75980-d2fd-4af2-b2ed-14794fa5f044" class="notion-selectable notion-text-block" style="width: 100%; max-width: 1334px; margin-top: 1px; margin-bottom: 1px;"><div style="color: inherit; fill: inherit;"><div style="display: flex;"><div contenteditable="false" spellcheck="true" placeholder=" " data-content-editable-leaf="true" style="max-width: 100%; width: 100%; white-space: pre-wrap; word-break: break-word; caret-color: rgb(55, 53, 47); padding: 3px 2px; min-height: 1em; color: rgb(55, 53, 47); -webkit-text-fill-color: rgba(55, 53, 47, 0.4);"></div></div></div></div><div data-block-id="5e2d1748-dd2f-41f7-b416-6b48168d3022" class="notion-selectable notion-text-block" style="width: 100%; max-width: 1334px; margin-top: 1px; margin-bottom: 1px;"><div style="color: inherit; fill: inherit;"><div style="display: flex;"><div contenteditable="false" spellcheck="true" placeholder=" " data-content-editable-leaf="true" style="max-width: 100%; width: 100%; white-space: pre-wrap; word-break: break-word; caret-color: rgb(55, 53, 47); padding: 3px 2px;"><span style="font-weight:600" data-token-index="0" class="notion-enable-hover">On this dataset do an extensive EDA and explain your findings using relevant visualizations. </span></div></div></div></div><div data-block-id="f1bf3220-eb7f-4a23-adb3-a8d33a0ea53f" class="notion-selectable notion-text-block" style="width: 100%; max-width: 1334px; margin-top: 1px; margin-bottom: 1px;"><div style="color: inherit; fill: inherit;"><div style="display: flex;"><div contenteditable="false" spellcheck="true" placeholder=" " data-content-editable-leaf="true" style="max-width: 100%; width: 100%; white-space: pre-wrap; word-break: break-word; caret-color: rgb(55, 53, 47); padding: 3px 2px; min-height: 1em; color: rgb(55, 53, 47); -webkit-text-fill-color: rgba(55, 53, 47, 0.4);"></div></div></div></div><div data-block-id="355d74af-5ce4-412c-be89-49dafff646e5" class="notion-selectable notion-text-block" style="width: 100%; max-width: 1334px; margin-top: 1px; margin-bottom: 1px;"><div style="color: inherit; fill: inherit;"><div style="display: flex;"><div contenteditable="false" spellcheck="true" placeholder=" " data-content-editable-leaf="true" style="max-width: 100%; width: 100%; white-space: pre-wrap; word-break: break-word; caret-color: rgb(55, 53, 47); padding: 3px 2px;">Some of the questions you can answer in the EDA:</div></div></div></div><div data-block-id="e265dbdb-94f7-43e3-8038-f47d9173495a" class="notion-selectable notion-numbered_list-block" style="width: 100%; max-width: 1334px; margin-top: 1px; margin-bottom: 1px;"><div style="display: flex; align-items: flex-start; width: 100%; padding-left: 2px; color: inherit; fill: inherit;"><div contenteditable="false" class="pseudoSelection" data-content-editable-void="true" style="user-select: none; --pseudoSelection--background:transparent; margin-right: 2px; width: 24px; display: flex; align-items: center; justify-content: center; flex-grow: 0; flex-shrink: 0; min-height: calc(1.5em + 3px + 3px);"><span class="pseudoBefore" style="--pseudoBefore--content:&quot;1.&quot;;"></span></div><div style="flex: 1 1 0px; min-width: 1px; display: flex; flex-direction: column;"><div style="display: flex;"><div contenteditable="false" spellcheck="true" placeholder="List" data-content-editable-leaf="true" style="max-width: 100%; width: 100%; white-space: pre-wrap; word-break: break-word; caret-color: rgb(55, 53, 47); padding: 3px 2px; text-align: left;">Can customers be segmented into different categories? If yes then perform analysis on the same and also propose categories. If no, then explain why?</div></div></div></div></div><div data-block-id="e78ae203-6924-4b88-b671-46c4ac6b6f40" class="notion-selectable notion-numbered_list-block" style="width: 100%; max-width: 1334px; margin-top: 1px; margin-bottom: 1px;"><div style="display: flex; align-items: flex-start; width: 100%; padding-left: 2px; color: inherit; fill: inherit;"><div contenteditable="false" class="pseudoSelection" data-content-editable-void="true" style="user-select: none; --pseudoSelection--background:transparent; margin-right: 2px; width: 24px; display: flex; align-items: center; justify-content: center; flex-grow: 0; flex-shrink: 0; min-height: calc(1.5em + 3px + 3px);"><span class="pseudoBefore" style="--pseudoBefore--content:&quot;2.&quot;;"></span></div><div style="flex: 1 1 0px; min-width: 1px; display: flex; flex-direction: column;"><div style="display: flex;"><div contenteditable="false" spellcheck="true" placeholder="List" data-content-editable-leaf="true" style="max-width: 100%; width: 100%; white-space: pre-wrap; word-break: break-word; caret-color: rgb(55, 53, 47); padding: 3px 2px; text-align: left;">How would you define a loyal customer?</div></div></div></div></div><div data-block-id="3c411766-4efc-4dbb-ae47-20179109ab29" class="notion-selectable notion-numbered_list-block" style="width: 100%; max-width: 1334px; margin-top: 1px; margin-bottom: 1px;"><div style="display: flex; align-items: flex-start; width: 100%; padding-left: 2px; color: inherit; fill: inherit;"><div contenteditable="false" class="pseudoSelection" data-content-editable-void="true" style="user-select: none; --pseudoSelection--background:transparent; margin-right: 2px; width: 24px; display: flex; align-items: center; justify-content: center; flex-grow: 0; flex-shrink: 0; min-height: calc(1.5em + 3px + 3px);"><span class="pseudoBefore" style="--pseudoBefore--content:&quot;3.&quot;;"></span></div><div style="flex: 1 1 0px; min-width: 1px; display: flex; flex-direction: column;"><div style="display: flex;"><div contenteditable="false" spellcheck="true" placeholder="List" data-content-editable-leaf="true" style="max-width: 100%; width: 100%; white-space: pre-wrap; word-break: break-word; caret-color: rgb(55, 53, 47); padding: 3px 2px; text-align: left;">What is the most popular time of year based on this sales data?</div></div></div></div></div><div data-block-id="cd7a96c9-dac3-4d0c-b12f-1ab7d3c5c379" class="notion-selectable notion-numbered_list-block" style="width: 100%; max-width: 1334px; margin-top: 1px; margin-bottom: 1px;"><div style="display: flex; align-items: flex-start; width: 100%; padding-left: 2px; color: inherit; fill: inherit;"><div contenteditable="false" class="pseudoSelection" data-content-editable-void="true" style="user-select: none; --pseudoSelection--background:transparent; margin-right: 2px; width: 24px; display: flex; align-items: center; justify-content: center; flex-grow: 0; flex-shrink: 0; min-height: calc(1.5em + 3px + 3px);"><span class="pseudoBefore" style="--pseudoBefore--content:&quot;4.&quot;;"></span></div><div style="flex: 1 1 0px; min-width: 1px; display: flex; flex-direction: column;"><div style="display: flex;"><div contenteditable="false" spellcheck="true" placeholder="List" data-content-editable-leaf="true" style="max-width: 100%; width: 100%; white-space: pre-wrap; word-break: break-word; caret-color: rgb(55, 53, 47); padding: 3px 2px; text-align: left;">Is there any seasonality in data? Explain with supportive evidence.</div></div></div></div></div><div data-block-id="871458cd-bb64-4ac1-92df-1ac417cb28d6" class="notion-selectable notion-numbered_list-block" style="width: 100%; max-width: 1334px; margin-top: 1px; margin-bottom: 1px;"><div style="display: flex; align-items: flex-start; width: 100%; padding-left: 2px; color: inherit; fill: inherit;"><div contenteditable="false" class="pseudoSelection" data-content-editable-void="true" style="user-select: none; --pseudoSelection--background:transparent; margin-right: 2px; width: 24px; display: flex; align-items: center; justify-content: center; flex-grow: 0; flex-shrink: 0; min-height: calc(1.5em + 3px + 3px);"><span class="pseudoBefore" style="--pseudoBefore--content:&quot;5.&quot;;"></span></div><div style="flex: 1 1 0px; min-width: 1px; display: flex; flex-direction: column;"><div style="display: flex;"><div contenteditable="false" spellcheck="true" placeholder="List" data-content-editable-leaf="true" style="max-width: 100%; width: 100%; white-space: pre-wrap; word-break: break-word; caret-color: rgb(55, 53, 47); padding: 3px 2px; text-align: left;">Discuss customer's lifetime with respect to the given dataset.</div></div></div></div></div><div data-block-id="7467cb30-ef5a-439d-ad3d-f4a2f43cca0e" class="notion-selectable notion-text-block" style="width: 100%; max-width: 1334px; margin-top: 1px; margin-bottom: 1px;"><div style="color: inherit; fill: inherit;"><div style="display: flex;"><div contenteditable="false" spellcheck="true" placeholder=" " data-content-editable-leaf="true" style="max-width: 100%; width: 100%; white-space: pre-wrap; word-break: break-word; caret-color: rgb(55, 53, 47); padding: 3px 2px; min-height: 1em; color: rgb(55, 53, 47); -webkit-text-fill-color: rgba(55, 53, 47, 0.4);"></div></div></div></div><div data-block-id="ce80dcc5-e08b-4d16-9543-8b4f8aea0315" class="notion-selectable notion-callout-block" style="width: 100%; max-width: 1334px; margin-top: 4px; margin-bottom: 4px;"><div style="display: flex;"><div style="display: flex; width: 100%; border-radius: 3px; background: rgb(241, 241, 239); padding: 16px 16px 16px 12px;"><div><div class="notion-record-icon notranslate notion-focusable" role="button" aria-disabled="true" tabindex="-1" style="user-select: none; transition: background 20ms ease-in 0s; display: flex; align-items: center; justify-content: center; height: 24px; width: 24px; border-radius: 3px; flex-shrink: 0;"><div style="display: flex; align-items: center; justify-content: center; height: 24px; width: 24px;"><div style="height: 16.8px; width: 16.8px; font-size: 16.8px; line-height: 1.1; margin-left: 0px; color: black;"><img class="notion-emoji" alt="💡" aria-label="💡" src="data:image/gif;base64,R0lGODlhAQABAIAAAP///wAAACH5BAEAAAAALAAAAAABAAEAAAICRAEAOw==" style="width: 100%; height: 100%; background: url(&quot;/images/emoji/twitter-emoji-spritesheet-64.d3a69865.png&quot;) 47.4576% 25.4237% / 6000% 6000%;"></div></div></div></div><div style="display: flex; flex-direction: column; min-width: 0px; margin-left: 8px; width: 100%;"><div contenteditable="false" spellcheck="true" placeholder="Type something…" data-content-editable-leaf="true" style="max-width: 100%; width: 100%; white-space: pre-wrap; word-break: break-word; caret-color: rgb(55, 53, 47); padding-left: 2px; padding-right: 2px;">The above questions are just samples, we would like to know how this data can be analyzed to help the retail business make better decisions.

We will require both the notebook and the PDF version of it. Keep the PDF report short and to the point. 

The presentation and simplicity of understanding the report can give you brownie points over other candidates.</div></div></div></div></div><div data-block-id="f990c64e-61bb-4897-97be-1da6e7527ece" class="notion-selectable notion-sub_sub_header-block" style="width: 100%; max-width: 1334px; margin-top: 1em; margin-bottom: 1px;"><div style="display: flex; width: 100%; font-family: ui-sans-serif, -apple-system, BlinkMacSystemFont, &quot;Segoe UI&quot;, Helvetica, &quot;Apple Color Emoji&quot;, Arial, sans-serif, &quot;Segoe UI Emoji&quot;, &quot;Segoe UI Symbol&quot;; font-weight: 600; font-size: 1.25em; line-height: 1.3; color: inherit; fill: inherit;"><div contenteditable="false" spellcheck="true" placeholder="Heading 3" data-content-editable-leaf="true" style="max-width: 100%; width: 100%; white-space: pre-wrap; word-break: break-word; caret-color: rgb(55, 53, 47); padding: 3px 2px;"><span style="color:inherit;border-bottom:0.05em solid;word-wrap:break-word" data-token-index="0" class="notion-enable-hover">Dataset:</span></div></div></div><div data-block-id="2f576fd7-dc97-41a7-91de-441b6eb0404e" class="notion-selectable notion-file-block" style="width: 100%; max-width: 1526px; margin-top: 1px; margin-bottom: 1px;"><div><div style="display: flex;"><div class="notion-focusable" role="button" tabindex="0" style="user-select: none; transition: background 20ms ease-in 0s; cursor: pointer; flex-grow: 1; min-width: 0px; border-radius: 3px; color: inherit; fill: inherit;"><div style="display: flex; align-items: center; width: 100%; padding-top: 3px; padding-bottom: 3px; padding-left: 2px;"><div contenteditable="false" class="pseudoSelection" data-content-editable-void="true" style="user-select: none; --pseudoSelection--background:transparent; margin-right: 2px; width: 1.35em; display: flex; align-items: center; justify-content: center; flex-grow: 0; flex-shrink: 0; min-height: calc(1.5em + 3px + 3px); height: 1.35em;"><svg viewBox="0 0 30 30" class="file" style="width: 100%; height: 100%; display: block; fill: inherit; flex-shrink: 0; backface-visibility: hidden;"><path d="M22,8v12c0,3.866-3.134,7-7,7s-7-3.134-7-7V8c0-2.762,2.238-5,5-5s5,2.238,5,5v12c0,1.657-1.343,3-3,3s-3-1.343-3-3V8h-2v12c0,2.762,2.238,5,5,5s5-2.238,5-5V8c0-3.866-3.134-7-7-7S6,4.134,6,8v12c0,4.971,4.029,9,9,9s9-4.029,9-9V8H22z"></path></svg></div><div style="flex: 1 1 0px; min-width: 1px;"><div style="display: flex; align-items: baseline;"><div style="white-space: nowrap; overflow: hidden; text-overflow: ellipsis;">RetailPulseAssignmentData.xlsx</div><div style="font-size: 12px; line-height: 16px; color: rgba(55, 53, 47, 0.6); white-space: nowrap; overflow: hidden; text-overflow: ellipsis; margin-left: 6px;">44553.0KB</div></div></div></div></div></div></div></div><div data-block-id="daaae66f-ae20-45e1-8817-4e74d4fb71a0" class="notion-selectable notion-text-block" style="width: 100%; max-width: 1334px; margin-top: 1px; margin-bottom: 1px;"><div style="color: inherit; fill: inherit;"><div style="display: flex;"><div contenteditable="false" spellcheck="true" placeholder=" " data-content-editable-leaf="true" style="max-width: 100%; width: 100%; white-space: pre-wrap; word-break: break-word; caret-color: rgb(55, 53, 47); padding: 3px 2px; min-height: 1em; color: rgb(55, 53, 47); -webkit-text-fill-color: rgba(55, 53, 47, 0.4);"></div></div></div></div><div data-block-id="f368b522-81fe-4676-8cc1-a2f382aafb06" class="notion-selectable notion-sub_header-block" style="width: 100%; max-width: 1334px; margin-top: 1.4em; margin-bottom: 1px;"><div style="display: flex; width: 100%; font-family: ui-sans-serif, -apple-system, BlinkMacSystemFont, &quot;Segoe UI&quot;, Helvetica, &quot;Apple Color Emoji&quot;, Arial, sans-serif, &quot;Segoe UI Emoji&quot;, &quot;Segoe UI Symbol&quot;; font-weight: 600; font-size: 1.5em; line-height: 1.3; color: inherit; fill: inherit;"><div contenteditable="false" spellcheck="true" placeholder="Heading 2" data-content-editable-leaf="true" style="max-width: 100%; width: 100%; white-space: pre-wrap; word-break: break-word; caret-color: rgb(55, 53, 47); padding: 3px 2px;">Section 2: Coding</div></div></div><div data-block-id="62e14e8a-d74e-4709-8342-4885b10eae43" class="notion-selectable notion-text-block" style="width: 100%; max-width: 1334px; margin-top: 1px; margin-bottom: 1px;"><div style="color: inherit; fill: inherit;"><div style="display: flex;"><div contenteditable="false" spellcheck="true" placeholder=" " data-content-editable-leaf="true" style="max-width: 100%; width: 100%; white-space: pre-wrap; word-break: break-word; caret-color: rgb(55, 53, 47); padding: 3px 2px;">Answer the questions contained in the attached notebook in most optimum way.</div></div></div></div><div data-block-id="7f08a3c9-a5e7-41ae-9f82-01e97beda897" class="notion-selectable notion-file-block" style="width: 100%; max-width: 1526px; margin-top: 1px; margin-bottom: 1px;"><div><div style="display: flex;"><div class="notion-focusable" role="button" tabindex="0" style="user-select: none; transition: background 20ms ease-in 0s; cursor: pointer; flex-grow: 1; min-width: 0px; border-radius: 3px; color: inherit; fill: inherit;"><div style="display: flex; align-items: center; width: 100%; padding-top: 3px; padding-bottom: 3px; padding-left: 2px;"><div contenteditable="false" class="pseudoSelection" data-content-editable-void="true" style="user-select: none; --pseudoSelection--background:transparent; margin-right: 2px; width: 1.35em; display: flex; align-items: center; justify-content: center; flex-grow: 0; flex-shrink: 0; min-height: calc(1.5em + 3px + 3px); height: 1.35em;"><svg viewBox="0 0 30 30" class="file" style="width: 100%; height: 100%; display: block; fill: inherit; flex-shrink: 0; backface-visibility: hidden;"><path d="M22,8v12c0,3.866-3.134,7-7,7s-7-3.134-7-7V8c0-2.762,2.238-5,5-5s5,2.238,5,5v12c0,1.657-1.343,3-3,3s-3-1.343-3-3V8h-2v12c0,2.762,2.238,5,5,5s5-2.238,5-5V8c0-3.866-3.134-7-7-7S6,4.134,6,8v12c0,4.971,4.029,9,9,9s9-4.029,9-9V8H22z"></path></svg></div><div style="flex: 1 1 0px; min-width: 1px;"><div style="display: flex; align-items: baseline;"><div style="white-space: nowrap; overflow: hidden; text-overflow: ellipsis;">Section2-Notebook.ipynb</div><div style="font-size: 12px; line-height: 16px; color: rgba(55, 53, 47, 0.6); white-space: nowrap; overflow: hidden; text-overflow: ellipsis; margin-left: 6px;">6.6KB</div></div></div></div></div></div></div></div><div data-block-id="c374cc45-ffa0-4dd5-8e17-8e5907f70cc5" class="notion-selectable notion-text-block" style="width: 100%; max-width: 1334px; margin-top: 1px; margin-bottom: 1px;"><div style="color: inherit; fill: inherit;"><div style="display: flex;"><div contenteditable="false" spellcheck="true" placeholder=" " data-content-editable-leaf="true" style="max-width: 100%; width: 100%; white-space: pre-wrap; word-break: break-word; caret-color: rgb(55, 53, 47); padding: 3px 2px;"><span style="color:inherit;border-bottom:0.05em solid;word-wrap:break-word;font-weight:600" data-token-index="0" class="notion-enable-hover">Data: </span></div></div></div></div><div data-block-id="47ed842c-a9de-4636-a43c-b424538c9d89" class="notion-selectable notion-file-block" style="width: 100%; max-width: 1526px; margin-top: 1px; margin-bottom: 1px;"><div><div style="display: flex;"><div class="notion-focusable" role="button" tabindex="0" style="user-select: none; transition: background 20ms ease-in 0s; cursor: pointer; flex-grow: 1; min-width: 0px; border-radius: 3px; color: inherit; fill: inherit;"><div style="display: flex; align-items: center; width: 100%; padding-top: 3px; padding-bottom: 3px; padding-left: 2px;"><div contenteditable="false" class="pseudoSelection" data-content-editable-void="true" style="user-select: none; --pseudoSelection--background:transparent; margin-right: 2px; width: 1.35em; display: flex; align-items: center; justify-content: center; flex-grow: 0; flex-shrink: 0; min-height: calc(1.5em + 3px + 3px); height: 1.35em;"><svg viewBox="0 0 30 30" class="file" style="width: 100%; height: 100%; display: block; fill: inherit; flex-shrink: 0; backface-visibility: hidden;"><path d="M22,8v12c0,3.866-3.134,7-7,7s-7-3.134-7-7V8c0-2.762,2.238-5,5-5s5,2.238,5,5v12c0,1.657-1.343,3-3,3s-3-1.343-3-3V8h-2v12c0,2.762,2.238,5,5,5s5-2.238,5-5V8c0-3.866-3.134-7-7-7S6,4.134,6,8v12c0,4.971,4.029,9,9,9s9-4.029,9-9V8H22z"></path></svg></div><div style="flex: 1 1 0px; min-width: 1px;"><div style="display: flex; align-items: baseline;"><div style="white-space: nowrap; overflow: hidden; text-overflow: ellipsis;">section2_data.txt</div><div style="font-size: 12px; line-height: 16px; color: rgba(55, 53, 47, 0.6); white-space: nowrap; overflow: hidden; text-overflow: ellipsis; margin-left: 6px;">4.9KB</div></div></div></div></div></div></div></div><div data-block-id="90385392-49d4-481a-bd49-6c14eb706aed" class="notion-selectable notion-quote-block" style="width: 100%; max-width: 1334px; margin-top: 4px; margin-bottom: 4px;"><div style="font-size: 1em; padding: 3px 2px; color: inherit; fill: inherit; display: flex;"><div style="border-left: 3px solid currentcolor; padding-left: 14px; padding-right: 14px; width: 100%;"><div contenteditable="false" spellcheck="true" placeholder="Empty quote" data-content-editable-leaf="true" style="max-width: 100%; width: 100%; white-space: pre-wrap; word-break: break-word; caret-color: rgb(55, 53, 47); padding-left: 2px; padding-right: 2px;"><span style="font-weight:600" data-token-index="0" class="notion-enable-hover">Note:</span> In case you are facing trouble in downloading section 2 files, you can download below zip file.</div></div></div></div><div data-block-id="f14e1153-c66f-4f83-a131-9de2906a7ff1" class="notion-selectable notion-file-block" style="width: 100%; max-width: 1526px; margin-top: 1px; margin-bottom: 0px;"><div><div style="display: flex;"><div class="notion-focusable" role="button" tabindex="0" style="user-select: none; transition: background 20ms ease-in 0s; cursor: pointer; flex-grow: 1; min-width: 0px; border-radius: 3px; color: inherit; fill: inherit;"><div style="display: flex; align-items: center; width: 100%; padding-top: 3px; padding-bottom: 3px; padding-left: 2px;"><div contenteditable="false" class="pseudoSelection" data-content-editable-void="true" style="user-select: none; --pseudoSelection--background:transparent; margin-right: 2px; width: 1.35em; display: flex; align-items: center; justify-content: center; flex-grow: 0; flex-shrink: 0; min-height: calc(1.5em + 3px + 3px); height: 1.35em;"><svg viewBox="0 0 30 30" class="file" style="width: 100%; height: 100%; display: block; fill: inherit; flex-shrink: 0; backface-visibility: hidden;"><path d="M22,8v12c0,3.866-3.134,7-7,7s-7-3.134-7-7V8c0-2.762,2.238-5,5-5s5,2.238,5,5v12c0,1.657-1.343,3-3,3s-3-1.343-3-3V8h-2v12c0,2.762,2.238,5,5,5s5-2.238,5-5V8c0-3.866-3.134-7-7-7S6,4.134,6,8v12c0,4.971,4.029,9,9,9s9-4.029,9-9V8H22z"></path></svg></div><div style="flex: 1 1 0px; min-width: 1px;"><div style="display: flex; align-items: baseline;"><div style="white-space: nowrap; overflow: hidden; text-overflow: ellipsis;">section2.zip</div><div style="font-size: 12px; line-height: 16px; color: rgba(55, 53, 47, 0.6); white-space: nowrap; overflow: hidden; text-overflow: ellipsis; margin-left: 6px;">4.9KB</div></div></div></div></div></div></div></div></div></div><div contenteditable="false" data-content-editable-void="true" style="width: 0px;"><div style="height: 100%; display: none; flex-shrink: 0; pointer-events: none; width: 0px; position: absolute; right: 7px; opacity: 0;"><div style="display: flex; flex-direction: column; padding: 5px 16px; width: 340px; flex-shrink: 0; height: 100%; position: relative; pointer-events: none; z-index: 1;"><div style="position: absolute; pointer-events: none; width: 100%; height: 100%; top: -5px; background: linear-gradient(white 0px, rgba(255, 255, 255, 0) 15px);"></div></div></div></div></div><div class="notion-presence-container" style="position: absolute; top: 0px; left: 0px; pointer-events: none; z-index: 1;"><div></div></div></div><div style="position: absolute; top: 0px; left: 0px;"><div></div></div></div></div></div><div class="notion-overlay-container notion-default-overlay-container" style="position: fixed; inset: 0px; z-index: 999; pointer-events: none; overflow: hidden;"><div style="position: relative; z-index: 0;"></div></div><div class="notion-overlay-container" style="position: fixed; inset: 0px; z-index: 1001; pointer-events: none; overflow: hidden;"><div style="position: relative; z-index: 0;"></div></div></div></div><script>window.CONFIG={env:"production",isAdminMode:!1,isLocalhost:!1,offline:!0,version:"23.10.15.1",domainBaseUrl:"https://www.notion.so",adminUrl:"https://admin.notion.so",publicDomainName:"notion.site",protocol:"notion",staticS3:{url:"https://prod-notion-assets.s3-us-west-2.amazonaws.com",bucket:"prod-notion-assets"},lastUpdatedTime:1638482183458,api:{http:"/api/v3"},googleOAuth:{clientId:"905154081809-858sm3f0qnalqd9d44d9gecjtrdji9tf.apps.googleusercontent.com"},messageStore:{url:"https://msgstore.www.notion.so",api:"/api/v1"},stripe:{key:"pk_live_vuNO27XGTCbXjVwneiECILjT"},revenueCat:{apiResponseMaxAge:6048e5,entitlementIDs:{personal:"notion.id.personal_pro"},productIDs:{personal:{monthly:"notion.id.personal_pro_monthly",yearly:"notion.id.personal_pro_yearly"}}},intercom:{appId:"gpfdrxfd",adminId:"3483686"},mutiny:{personalKey:"1149e901f65fc47c"},segment:{writeKey:"g1mMn2qquRcv7exBIVDivoKl9cOrdxLA"},amplitude:{apiKey:"64ac42fd5a4a1db6ac5cf007fe57a3d5"},pricing:{invoiceDaysUntilDue:30,team_free:{spaceBlockLimit:1e3,fileUploadMaxBytes:5e6},personal_free:{fileUploadMaxBytes:5e6},student:{productId:"prod_FhChFoDp7gS1Ba"},personal:{productId:"prod_CpavZFCbxF2YGx",monthlyPrice:500,yearlyPrice:4800},team:{productId:"prod_CpawK4ih14xs4t",monthlyPricePerMember:1e3,yearlyPricePerMember:9600},enterprise:{productId:"prod_Cpb8M1AFEFhdy1",monthlyPricePerMember:2500,yearlyPricePerMember:24e3}},desktopS3:{url:"https://s3-us-west-2.amazonaws.com/desktop-release.notion-static.com"},publicFileS3:{url:"https://s3-us-west-2.amazonaws.com/public.notion-static.com",bucket:"public.notion-static.com"},temporaryFileS3:{url:"https://s3-us-west-2.amazonaws.com/temporary.notion-static.com",bucket:"temporary.notion-static.com"},secureFileS3:{url:"https://s3-us-west-2.amazonaws.com/secure.notion-static.com",bucket:"secure.notion-static.com"},loggly:{token:"edcca201-4028-4ef1-bbb1-c78b430dd74e"},datadog:{applicationId:"3a3add4b-112a-483d-8b3d-b4f61bc7bf39",clientToken:"f6d456ce-3a61-4e69-9880-54d0ba3d76d7"},embedly:{key:"421626497c5d4fc2ae6b075189d602a2"},aif:{url:"https://aif.notion.so/aif-production.html"},contentful:{spaceId:"spoqsaf9291f",contentDeliveryToken:"AGqteRpWD8aE_kxy_s7_hSFAlKCh5qf-RctSU6vV6u0",contentPreviewToken:"uR2ZVAs-9TMKDq0YKYVtczFplx6P9p06huCibZDJZKA"},iOSAppId:1232780281,facebook:{pixelId:"499229960464487"},statsig:{apiKey:"client-Tgza5wNFa8dVt9BdeUfG6Vkm29bHxX10MhoztTMzLBB"}}</script><textarea style="opacity: 0; pointer-events: none; position: fixed; left: 0px; top: 0px;"></textarea><textarea style="opacity: 0; pointer-events: none; position: fixed; left: 0px; top: 0px;"></textarea><div style="width: env(safe-area-inset-bottom);"></div><div>
    <div id="twoseven-ext-tab-media-modal" class="twoseven-ext-tab-media-modal" style="display: none;">
      <!-- Modal content -->
      <div class="twoseven-ext-tab-media-modal-content">
        <div class="iframe-container" style="height: 100%; width: 100%;">
          <span class="close">×</span>
        </div>
      </div>
    </div></div><iframe id="intercom-frame" style="position: absolute !important; opacity: 0 !important; width: 1px !important; height: 1px !important; top: 0 !important; left: 0 !important; border: none !important; display: block !important; z-index: -1 !important; pointer-events: none;" aria-hidden="true" tabindex="-1" title="Intercom" src="./Retail Pulse_ DS Assignment_files/saved_resource.html"></iframe><div class="intercom-lightweight-app"><style id="intercom-lightweight-app-style" type="text/css">
  @keyframes intercom-lightweight-app-launcher {
    from {
      opacity: 0;
      transform: scale(0.5);
    }
    to {
      opacity: 1;
      transform: scale(1);
    }
  }

  @keyframes intercom-lightweight-app-gradient {
    from {
      opacity: 0;
    }
    to {
      opacity: 1;
    }
  }

  @keyframes intercom-lightweight-app-messenger {
    from {
      opacity: 0;
      transform: translateY(20px);
    }
    to {
      opacity: 1;
      transform: translateY(0);
    }
  }

  .intercom-lightweight-app {
    position: fixed;
    z-index: 2147483001;
    width: 0;
    height: 0;
    font-family: intercom-font, "Helvetica Neue", "Apple Color Emoji", Helvetica, Arial, sans-serif;
  }

  .intercom-lightweight-app-gradient {
    position: fixed;
    z-index: 2147483002;
    width: 500px;
    height: 500px;
    bottom: 0;
    right: 0;
    pointer-events: none;
    background: radial-gradient(
      ellipse at bottom right,
      rgba(29, 39, 54, 0.16) 0%,
      rgba(29, 39, 54, 0) 72%);
    animation: intercom-lightweight-app-gradient 200ms ease-out;
  }

  .intercom-lightweight-app-launcher {
    position: fixed;
    z-index: 2147483003;
    bottom: 20px;
    right: 20px;
    width: 60px;
    height: 60px;
    border-radius: 50%;
    background: #66778c;
    cursor: pointer;
    box-shadow: 0 1px 6px 0 rgba(0, 0, 0, 0.06), 0 2px 32px 0 rgba(0, 0, 0, 0.16);
    animation: intercom-lightweight-app-launcher 250ms ease;
  }

  .intercom-lightweight-app-launcher:focus {
    outline: none;
    
  }

  .intercom-lightweight-app-launcher-icon {
    display: flex;
    align-items: center;
    justify-content: center;
    position: absolute;
    top: 0;
    left: 0;
    width: 60px;
    height: 60px;
    transition: transform 100ms linear, opacity 80ms linear;
  }

  .intercom-lightweight-app-launcher-icon-open {
    
        opacity: 1;
        transform: rotate(0deg) scale(1);
      
  }

  .intercom-lightweight-app-launcher-icon-open svg {
    width: 28px;
    height: 32px;
  }

  .intercom-lightweight-app-launcher-icon-open svg path {
    fill: rgb(255, 255, 255);
  }

  .intercom-lightweight-app-launcher-icon-self-serve {
    
        opacity: 1;
        transform: rotate(0deg) scale(1);
      
  }

  .intercom-lightweight-app-launcher-icon-self-serve svg {
    height: 56px;
  }

  .intercom-lightweight-app-launcher-icon-self-serve svg path {
    fill: rgb(255, 255, 255);
  }

  .intercom-lightweight-app-launcher-custom-icon-open {
    max-height: 36px;
    max-width: 36px;
    
        opacity: 1;
        transform: rotate(0deg) scale(1);
      
  }

  .intercom-lightweight-app-launcher-icon-minimize {
    
        opacity: 0;
        transform: rotate(-60deg) scale(0);
      
  }

  .intercom-lightweight-app-launcher-icon-minimize svg {
    width: 16px;
  }

  .intercom-lightweight-app-launcher-icon-minimize svg path {
    fill: rgb(255, 255, 255);
  }

  .intercom-lightweight-app-messenger {
    position: fixed;
    z-index: 2147483003;
    overflow: hidden;
    background-color: white;
    animation: intercom-lightweight-app-messenger 250ms ease-out;
    
        width: 376px;
        height: calc(100% - 40px);
        max-height: 704px;
        min-height: 250px;
        right: 20px;
        bottom: 20px;
        box-shadow: 0 5px 40px rgba(0,0,0,0.16);
        border-radius: 8px;
      
  }

  .intercom-lightweight-app-messenger-header {
    height: 75px;
    background: linear-gradient(
      135deg,
      rgb(0, 0, 0) 0%,
      rgb(0, 0, 0) 100%
    );
  }

  @media print {
    .intercom-lightweight-app {
      display: none;
    }
  }
</style></div></body><grammarly-desktop-integration data-grammarly-shadow-root="true"></grammarly-desktop-integration></html>